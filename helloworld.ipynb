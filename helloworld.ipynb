{
 "cells": [
  {
   "cell_type": "markdown",
   "metadata": {},
   "source": [
    "# Capacitor Potential Calculator"
   ]
  },
  {
   "cell_type": "markdown",
   "metadata": {},
   "source": [
    "This program plots out the charge of a capacitor in an RC circuit after switch action.\n",
    "1. Points are made\n",
    "2. Plots are graphed"
   ]
  },
  {
   "cell_type": "markdown",
   "metadata": {},
   "source": [
    "## The Plots"
   ]
  },
  {
   "cell_type": "code",
   "execution_count": 1,
   "metadata": {},
   "outputs": [],
   "source": [
    "import matplotlib.pyplot as plt\n",
    "from math import e"
   ]
  },
  {
   "cell_type": "code",
   "execution_count": 3,
   "metadata": {},
   "outputs": [],
   "source": [
    "#Takes a standard input and corrects the user if\n",
    "#they entered an invalid number - https://tinyurl.com/yxwo47vn\n",
    "def inputNumber(message):\n",
    "  while True:\n",
    "    try:\n",
    "       userInput = float(input(message))       \n",
    "    except ValueError:\n",
    "       print(\"Not an float! Try again.\")\n",
    "       continue\n",
    "    else:\n",
    "       return userInput \n",
    "       break"
   ]
  },
  {
   "cell_type": "code",
   "execution_count": 4,
   "metadata": {
    "scrolled": true
   },
   "outputs": [
    {
     "name": "stdout",
     "output_type": "stream",
     "text": [
      "R = 1000\n",
      "C = .001\n",
      "Vsource = 3.3\n",
      "Number of points = 19000\n"
     ]
    }
   ],
   "source": [
    "# User input\n",
    "V = [];\n",
    "R = inputNumber (\"R = \");\n",
    "C = inputNumber (\"C = \");\n",
    "Vsource = inputNumber (\"Vsource = \");\n",
    "numpoints = inputNumber (\"Number of points = \");"
   ]
  },
  {
   "cell_type": "code",
   "execution_count": 5,
   "metadata": {
    "scrolled": true
   },
   "outputs": [
    {
     "name": "stdout",
     "output_type": "stream",
     "text": [
      "7\n"
     ]
    },
    {
     "data": {
      "image/png": "[encoded data removed]",
      "text/plain": [
       "<matplotlib.figure.Figure at 0xafadbcf0>"
      ]
     },
     "metadata": {},
     "output_type": "display_data"
    }
   ],
   "source": [
    "# Sets the time constant to 7 tao\n",
    "# and adjusts to the user's\n",
    "# desired percision (number of points)\n",
    "Tconstant = int(7*R*C);\n",
    "time = int(numpoints * Tconstant);\n",
    "\n",
    "# Simulats the exponential rise in the voltage\n",
    "# across the capactitor\n",
    "V.clear();\n",
    "for t in range(time):\n",
    "    V.append( Vsource*( 1 - e**( -( t/numpoints )/( R*C ) ) ) );\n",
    "plt.plot(V);\n",
    "print( Tconstant)"
   ]
  },
  {
   "cell_type": "code",
   "execution_count": 8,
   "metadata": {},
   "outputs": [
    {
     "data": {
      "image/png": "[encoded data removed]",
      "text/plain": [
       "<matplotlib.figure.Figure at 0xae446750>"
      ]
     },
     "metadata": {},
     "output_type": "display_data"
    }
   ],
   "source": [
    "# Simulates an RC circuit decay\n",
    "V.clear()\n",
    "for t in range(time):\n",
    "    V.append( Vsource*e**( -( t/numpoints )/( R*C ) ) );\n",
    "plt.plot(V);"
   ]
  },
  {
   "cell_type": "code",
   "execution_count": null,
   "metadata": {},
   "outputs": [],
   "source": []
  }
 ],
 "metadata": {
  "kernelspec": {
   "display_name": "Python 3",
   "language": "python",
   "name": "python3"
  },
  "language_info": {
   "codemirror_mode": {
    "name": "ipython",
    "version": 3
   },
   "file_extension": ".py",
   "mimetype": "text/x-python",
   "name": "python",
   "nbconvert_exporter": "python",
   "pygments_lexer": "ipython3",
   "version": "3.6.5"
  }
 },
 "nbformat": 4,
 "nbformat_minor": 2
}
